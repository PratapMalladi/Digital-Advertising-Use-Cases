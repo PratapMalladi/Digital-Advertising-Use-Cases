{
 "cells": [
  {
   "cell_type": "markdown",
   "metadata": {},
   "source": [
    "# Advertising Cost Regression Analysis \n",
    "\n",
    "### This project uses Predictive Analytics to examine what variable best predicts Amount Spent for a company Travelpony's Facebook data "
   ]
  },
  {
   "cell_type": "code",
   "execution_count": null,
   "metadata": {},
   "outputs": [],
   "source": [
    "#importing the packages necessary to perform our analysis \n",
    "import pandas\n",
    "import seaborn as sns\n",
    "import numpy as np\n",
    "import statsmodels.api as sm "
   ]
  },
  {
   "cell_type": "code",
   "execution_count": null,
   "metadata": {},
   "outputs": [],
   "source": [
    "#this assigns the filename we're trying to load in to a string variable\n",
    "trav = 'Travel Pony Facebook.csv'"
   ]
  },
  {
   "cell_type": "code",
   "execution_count": null,
   "metadata": {},
   "outputs": [],
   "source": [
    "#this uses the pandas package to load the csv file into a pandas dataframe\n",
    "df = pandas.read_csv(trav) "
   ]
  },
  {
   "cell_type": "code",
   "execution_count": null,
   "metadata": {},
   "outputs": [],
   "source": [
    "#drop ad spent that has a value of zero \n",
    "df = df[(df[['Amount Spent (USD)']] != 0).all(axis=1)]"
   ]
  },
  {
   "cell_type": "code",
   "execution_count": null,
   "metadata": {},
   "outputs": [],
   "source": [
    "#making a histogram \n",
    "sns.set_style('darkgrid')\n",
    "sns.distplot(df['Amount Spent (USD)'])"
   ]
  },
  {
   "cell_type": "code",
   "execution_count": null,
   "metadata": {},
   "outputs": [],
   "source": [
    "#Changing 'Campaign Name' to categorical values\n",
    "df['Campaign Name']= df['Campaign Name'].astype('category')\n",
    "df['Campaign Code']= df['Campaign Name'].cat.codes"
   ]
  },
  {
   "cell_type": "code",
   "execution_count": null,
   "metadata": {},
   "outputs": [],
   "source": [
    "#assigning variables specific columns in the data set \n",
    "X = df[['Campaign Code','Reach','Frequency', 'Impressions', 'Clicks',\n",
    "        'Unique Clicks', 'Page Likes', \n",
    "        'Page Engagement', 'Post Engagement', 'Post Likes', 'Post Comments',\n",
    "        'Post Shares', 'Photo Views', 'Website Clicks']] \n",
    "Y = df['Amount Spent (USD)']"
   ]
  },
  {
   "cell_type": "code",
   "execution_count": null,
   "metadata": {},
   "outputs": [],
   "source": [
    "#Running the regression \n",
    "model = sm.OLS(Y, X).fit()\n",
    "predictions = model.predict(X) \n",
    "\n",
    "print (model.summary())"
   ]
  },
  {
   "cell_type": "code",
   "execution_count": null,
   "metadata": {},
   "outputs": [],
   "source": [
    "#What are the three predictors with the highest predictive value? \n",
    "#1. Post Likes \n",
    "#2. Post Engagement \n",
    "#3. Post Shares  "
   ]
  },
  {
   "cell_type": "code",
   "execution_count": null,
   "metadata": {},
   "outputs": [],
   "source": []
  }
 ],
 "metadata": {
  "kernelspec": {
   "display_name": "Python 3",
   "language": "python",
   "name": "python3"
  },
  "language_info": {
   "codemirror_mode": {
    "name": "ipython",
    "version": 3
   },
   "file_extension": ".py",
   "mimetype": "text/x-python",
   "name": "python",
   "nbconvert_exporter": "python",
   "pygments_lexer": "ipython3",
   "version": "3.7.3"
  }
 },
 "nbformat": 4,
 "nbformat_minor": 2
}
